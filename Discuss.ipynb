{
  "nbformat": 4,
  "nbformat_minor": 0,
  "metadata": {
    "colab": {
      "provenance": [],
      "authorship_tag": "ABX9TyOC7GpjwjbgsCCRM0JWtzTN",
      "include_colab_link": true
    },
    "kernelspec": {
      "name": "python3",
      "display_name": "Python 3"
    },
    "language_info": {
      "name": "python"
    }
  },
  "cells": [
    {
      "cell_type": "markdown",
      "metadata": {
        "id": "view-in-github",
        "colab_type": "text"
      },
      "source": [
        "<a href=\"https://colab.research.google.com/github/ParvezAlam-AI/python/blob/pythons_basics/Discuss.ipynb\" target=\"_parent\"><img src=\"https://colab.research.google.com/assets/colab-badge.svg\" alt=\"Open In Colab\"/></a>"
      ]
    },
    {
      "cell_type": "markdown",
      "source": [
        "Lambda\n"
      ],
      "metadata": {
        "id": "eDjFRxJr0Zey"
      }
    },
    {
      "cell_type": "code",
      "execution_count": null,
      "metadata": {
        "colab": {
          "base_uri": "https://localhost:8080/"
        },
        "id": "njhcgY4VzUmj",
        "outputId": "527f9d2e-5d3c-4ba0-8c52-35b872d7b26b"
      },
      "outputs": [
        {
          "output_type": "stream",
          "name": "stdout",
          "text": [
            "[1, 4, 9, 16, 25]\n"
          ]
        }
      ],
      "source": [
        "numbers = [1,2,3,4,5]\n",
        "squared_numbers = map(lambda x: x**2,numbers)\n",
        "print(list(squared_numbers))  # how this is being calculated.\n",
        "\n",
        "# resolved\n"
      ]
    },
    {
      "cell_type": "code",
      "source": [
        "lst = [3,1,4,2,0]\n",
        "n = len(lst)\n",
        "for i in range(n):\n",
        "    if lst[i] == i:\n",
        "        lst[i], lst[i+1] = lst[i+1], lst[1]\n",
        "\n",
        "# how this is working.\n",
        "# what is the actual question.\n"
      ],
      "metadata": {
        "id": "mheC-_0u0b1l"
      },
      "execution_count": null,
      "outputs": []
    },
    {
      "cell_type": "code",
      "source": [
        "\n"
      ],
      "metadata": {
        "id": "hs7BOSGxNTqj"
      },
      "execution_count": null,
      "outputs": []
    }
  ]
}