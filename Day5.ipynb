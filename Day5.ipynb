{
  "nbformat": 4,
  "nbformat_minor": 0,
  "metadata": {
    "colab": {
      "provenance": [],
      "toc_visible": true,
      "include_colab_link": true
    },
    "kernelspec": {
      "name": "python3",
      "display_name": "Python 3"
    },
    "language_info": {
      "name": "python"
    }
  },
  "cells": [
    {
      "cell_type": "markdown",
      "metadata": {
        "id": "view-in-github",
        "colab_type": "text"
      },
      "source": [
        "<a href=\"https://colab.research.google.com/github/ParvezAlam-AI/python/blob/pythons_basics/Day5.ipynb\" target=\"_parent\"><img src=\"https://colab.research.google.com/assets/colab-badge.svg\" alt=\"Open In Colab\"/></a>"
      ]
    },
    {
      "cell_type": "markdown",
      "source": [
        "# Function\n",
        "\n"
      ],
      "metadata": {
        "id": "_UVq-q4N_clr"
      }
    },
    {
      "cell_type": "code",
      "source": [
        "def calculate_area(length, width):\n",
        " area = length * width\n",
        " return area"
      ],
      "metadata": {
        "id": "1RVe19LuCLhy"
      },
      "execution_count": null,
      "outputs": []
    },
    {
      "cell_type": "code",
      "source": [
        "area_function = calculate_area\n",
        "\n",
        "area = area_function(10, 5)\n",
        "print(area)\n",
        "# Output: 50"
      ],
      "metadata": {
        "colab": {
          "base_uri": "https://localhost:8080/"
        },
        "id": "5Dn6TLRTCLZm",
        "outputId": "561fe339-796d-40d8-8b84-843232b4f7dd"
      },
      "execution_count": null,
      "outputs": [
        {
          "output_type": "stream",
          "name": "stdout",
          "text": [
            "50\n"
          ]
        }
      ]
    },
    {
      "cell_type": "code",
      "execution_count": null,
      "metadata": {
        "id": "zbbTIWDd-6oW"
      },
      "outputs": [],
      "source": [
        "def call_func(func,arg1,arg2):\n",
        "    result = func(arg1,arg2)\n",
        "    return result\n",
        "\n"
      ]
    },
    {
      "cell_type": "code",
      "source": [
        "area = call_func(calculate_area,10,4) # functon inside function with arguments inside the functions.\n",
        "print(area)"
      ],
      "metadata": {
        "colab": {
          "base_uri": "https://localhost:8080/"
        },
        "id": "h3qMQhcYCCRq",
        "outputId": "35dc90f2-3277-4016-e395-c81aaff05a9b"
      },
      "execution_count": null,
      "outputs": [
        {
          "output_type": "stream",
          "name": "stdout",
          "text": [
            "40\n"
          ]
        }
      ]
    },
    {
      "cell_type": "code",
      "source": [],
      "metadata": {
        "id": "cLYc6tc9CdR5"
      },
      "execution_count": null,
      "outputs": []
    },
    {
      "cell_type": "markdown",
      "source": [
        "# String Function\n",
        "\n",
        "\n",
        "\n"
      ],
      "metadata": {
        "id": "0WpKxvtf63DM"
      }
    },
    {
      "cell_type": "code",
      "source": [
        "string = \"Hello, World!\""
      ],
      "metadata": {
        "id": "Z0zhUt3-643o"
      },
      "execution_count": 2,
      "outputs": []
    },
    {
      "cell_type": "code",
      "source": [
        "print(len(string))"
      ],
      "metadata": {
        "id": "JTvSYt6U7Hxg",
        "outputId": "0743dc0c-b150-4643-8650-2b1babd683c7",
        "colab": {
          "base_uri": "https://localhost:8080/"
        }
      },
      "execution_count": 3,
      "outputs": [
        {
          "output_type": "stream",
          "name": "stdout",
          "text": [
            "13\n"
          ]
        }
      ]
    },
    {
      "cell_type": "code",
      "source": [
        "print(string.upper())"
      ],
      "metadata": {
        "id": "101vr7xJ77OP",
        "outputId": "9fa4475a-3962-4a5d-e525-f570c0a9a916",
        "colab": {
          "base_uri": "https://localhost:8080/"
        }
      },
      "execution_count": 5,
      "outputs": [
        {
          "output_type": "stream",
          "name": "stdout",
          "text": [
            "HELLO, WORLD!\n"
          ]
        }
      ]
    },
    {
      "cell_type": "markdown",
      "source": [
        "len(string): Returns the length of a string.\n",
        "string.upper(): Returns a copy of the string in uppercase.\n",
        "string.lower(): Returns a copy of the string in lowercase.\n",
        "string.strip(): Returns a copy of the string with leading and trailing whitespace removed.\n",
        "string.startswith(substring): Returns True if the string starts with the specified substring, otherwise returns False.\n",
        "string.endswith(substring): Returns True if the string ends with the specified substring, otherwise returns False.\n",
        "string.split(delimiter): Returns a list of substrings separated by the specified delimiter.\n",
        "string.join(iterable): Joins the elements of an iterable (e.g., a list or tuple) into a single string, with each element separated by the string.\n",
        "string.replace(old, new): Returns a copy of the string with all occurrences of the old substring replaced with the new substring.\n",
        "string.format(args): Formats the string with the specified arguments.\n",
        "string.index(substring): Returns the index of the first occurrence of the specified substring in the string.\n",
        "string.count(substring): Returns the number of occurrences of the specified substring in the string.\n",
        "\n"
      ],
      "metadata": {
        "id": "9IEEy6leJPey"
      }
    },
    {
      "cell_type": "code",
      "source": [
        "print(string.strip())"
      ],
      "metadata": {
        "id": "7TVTweCm8CFI",
        "outputId": "ad28d494-9611-4454-8e86-ee1667c02700",
        "colab": {
          "base_uri": "https://localhost:8080/"
        }
      },
      "execution_count": 6,
      "outputs": [
        {
          "output_type": "stream",
          "name": "stdout",
          "text": [
            "Hello, World!\n"
          ]
        }
      ]
    },
    {
      "cell_type": "code",
      "source": [
        "print(string.startswith(\"Hello\"))"
      ],
      "metadata": {
        "id": "-_yOpC7lMdHQ",
        "outputId": "2de33882-a8e5-463e-c819-f4f7d0bd9617",
        "colab": {
          "base_uri": "https://localhost:8080/"
        }
      },
      "execution_count": 10,
      "outputs": [
        {
          "output_type": "stream",
          "name": "stdout",
          "text": [
            "True\n"
          ]
        }
      ]
    },
    {
      "cell_type": "code",
      "source": [
        "print(string.endswith(\"Hello\"))"
      ],
      "metadata": {
        "id": "LA1QK8uHNESx",
        "outputId": "cb40634c-82b6-4107-8a3a-346e22b65901",
        "colab": {
          "base_uri": "https://localhost:8080/"
        }
      },
      "execution_count": 11,
      "outputs": [
        {
          "output_type": "stream",
          "name": "stdout",
          "text": [
            "False\n"
          ]
        }
      ]
    },
    {
      "cell_type": "code",
      "source": [
        "print(string.split(\",\"))"
      ],
      "metadata": {
        "id": "XrzUM3kFNONv",
        "outputId": "414060b8-f98b-493c-d592-953d8ebbb9a2",
        "colab": {
          "base_uri": "https://localhost:8080/"
        }
      },
      "execution_count": 12,
      "outputs": [
        {
          "output_type": "stream",
          "name": "stdout",
          "text": [
            "['Hello', ' World!']\n"
          ]
        }
      ]
    },
    {
      "cell_type": "code",
      "source": [
        "print(\"-\".join(string))"
      ],
      "metadata": {
        "id": "CgBj4xxZNSh7",
        "outputId": "2d9ea09d-d59a-4263-8696-77ccea63036f",
        "colab": {
          "base_uri": "https://localhost:8080/"
        }
      },
      "execution_count": 13,
      "outputs": [
        {
          "output_type": "stream",
          "name": "stdout",
          "text": [
            "H-e-l-l-o-,- -W-o-r-l-d-!\n"
          ]
        }
      ]
    },
    {
      "cell_type": "code",
      "source": [
        "print(string.replace(\"World\",\"Universe\"))"
      ],
      "metadata": {
        "id": "VUS3njn4NacG",
        "outputId": "d9f82e70-fcc9-4694-c893-614883b5c862",
        "colab": {
          "base_uri": "https://localhost:8080/"
        }
      },
      "execution_count": 14,
      "outputs": [
        {
          "output_type": "stream",
          "name": "stdout",
          "text": [
            "Hello, Universe!\n"
          ]
        }
      ]
    },
    {
      "cell_type": "code",
      "source": [
        "print(\"My name is {} and i am {} years old\".format(\"Parvez\",30))"
      ],
      "metadata": {
        "id": "qKDk5liKNk4a",
        "outputId": "e5205f7e-0653-4e80-ccf5-df9412efb702",
        "colab": {
          "base_uri": "https://localhost:8080/"
        }
      },
      "execution_count": 15,
      "outputs": [
        {
          "output_type": "stream",
          "name": "stdout",
          "text": [
            "My name is Parvez and i am 30 years old\n"
          ]
        }
      ]
    },
    {
      "cell_type": "code",
      "source": [
        "print(string)"
      ],
      "metadata": {
        "id": "SiGg97uGNx4j",
        "outputId": "e551299b-3dd9-4916-b625-cda9656522ba",
        "colab": {
          "base_uri": "https://localhost:8080/"
        }
      },
      "execution_count": 20,
      "outputs": [
        {
          "output_type": "stream",
          "name": "stdout",
          "text": [
            "Hello, World!\n"
          ]
        }
      ]
    },
    {
      "cell_type": "code",
      "source": [
        "print(string.index(\"o\"))"
      ],
      "metadata": {
        "id": "aFMTcMeXN3Vf",
        "outputId": "dc6e6a5f-7c90-414f-9e18-856d162391f8",
        "colab": {
          "base_uri": "https://localhost:8080/"
        }
      },
      "execution_count": 23,
      "outputs": [
        {
          "output_type": "stream",
          "name": "stdout",
          "text": [
            "4\n"
          ]
        }
      ]
    },
    {
      "cell_type": "code",
      "source": [
        "print(string.count(\"l\"))"
      ],
      "metadata": {
        "id": "BbD4w18qOMbE",
        "outputId": "284ee3b4-f382-40ab-e075-71a14471030c",
        "colab": {
          "base_uri": "https://localhost:8080/"
        }
      },
      "execution_count": 25,
      "outputs": [
        {
          "output_type": "stream",
          "name": "stdout",
          "text": [
            "3\n"
          ]
        }
      ]
    },
    {
      "cell_type": "code",
      "source": [
        "text = '''\n",
        "Beautiful is better than ugly.\n",
        "Explicit is better than implicit.\n",
        "Simple is better than complex.\n",
        "Complex is better than complicated.\n",
        "Flat is better than nested.\n",
        "Sparse is better than dense.\n",
        "Readability counts.\n",
        "Special cases aren't special enough to break the rules.\n",
        "Although practicality beats purity.\n",
        "Errors should never pass silently.\n",
        "Unless explicitly silenced.\n",
        "In the face of ambiguity, refuse the temptation to guess.\n",
        "There should be one-- and preferably only one --obvious way to do it.\n",
        "Although that way may not be obvious at first unless you're Dutch.\n",
        "Now is better than never.\n",
        "Although never is often better than *right* now.\n",
        "If the implementation is hard to explain, it's a bad idea.\n",
        "If the implementation is easy to explain, it may be a good idea.\n",
        "Namespaces are one honking great idea -- let's do more of those!'''"
      ],
      "metadata": {
        "id": "NZPYLU-xOTtl"
      },
      "execution_count": 46,
      "outputs": []
    },
    {
      "cell_type": "code",
      "source": [
        "def lowercase(text):\n",
        "    return text.lower()\n",
        "\n",
        "lowercase(text)\n"
      ],
      "metadata": {
        "id": "MeXkNcbbOnk9",
        "outputId": "1a595b94-0af6-400e-e53d-14291618bfac",
        "colab": {
          "base_uri": "https://localhost:8080/",
          "height": 140
        }
      },
      "execution_count": 57,
      "outputs": [
        {
          "output_type": "execute_result",
          "data": {
            "text/plain": [
              "\"\\nbeautiful is better than ugly.\\nexplicit is better than implicit.\\nsimple is better than complex.\\ncomplex is better than complicated.\\nflat is better than nested.\\nsparse is better than dense.\\nreadability counts.\\nspecial cases aren't special enough to break the rules.\\nalthough practicality beats purity.\\nerrors should never pass silently.\\nunless explicitly silenced.\\nin the face of ambiguity, refuse the temptation to guess.\\nthere should be one-- and preferably only one --obvious way to do it.\\nalthough that way may not be obvious at first unless you're dutch.\\nnow is better than never.\\nalthough never is often better than *right* now.\\nif the implementation is hard to explain, it's a bad idea.\\nif the implementation is easy to explain, it may be a good idea.\\nnamespaces are one honking great idea -- let's do more of those!\""
            ],
            "application/vnd.google.colaboratory.intrinsic+json": {
              "type": "string"
            }
          },
          "metadata": {},
          "execution_count": 57
        }
      ]
    },
    {
      "cell_type": "code",
      "source": [
        "# @title Default title text\n",
        "def removePunctuation(text):\n",
        "    punctuations = ['.','-',',','*']\n",
        "    for punctuation in punctuations:\n",
        "        text = text.replace(punctuation,'')\n",
        "    return text\n",
        "# need to ask how this is happing.\n",
        "\n",
        "removePunctuation(text)"
      ],
      "metadata": {
        "cellView": "code",
        "id": "678J8SD6O7h4",
        "outputId": "a86617c8-51ff-4e93-d34e-14c1af60fc58",
        "colab": {
          "base_uri": "https://localhost:8080/",
          "height": 140
        }
      },
      "execution_count": 56,
      "outputs": [
        {
          "output_type": "execute_result",
          "data": {
            "text/plain": [
              "\"\\nBeautiful is better than ugly\\nExplicit is better than implicit\\nSimple is better than complex\\nComplex is better than complicated\\nFlat is better than nested\\nSparse is better than dense\\nReadability counts\\nSpecial cases aren't special enough to break the rules\\nAlthough practicality beats purity\\nErrors should never pass silently\\nUnless explicitly silenced\\nIn the face of ambiguity refuse the temptation to guess\\nThere should be one and preferably only one obvious way to do it\\nAlthough that way may not be obvious at first unless you're Dutch\\nNow is better than never\\nAlthough never is often better than right now\\nIf the implementation is hard to explain it's a bad idea\\nIf the implementation is easy to explain it may be a good idea\\nNamespaces are one honking great idea  let's do more of those!\""
            ],
            "application/vnd.google.colaboratory.intrinsic+json": {
              "type": "string"
            }
          },
          "metadata": {},
          "execution_count": 56
        }
      ]
    },
    {
      "cell_type": "code",
      "source": [
        "def removeNewlines(text):\n",
        "    text = text.replace('\\n',' ')\n",
        "    return text\n",
        ""
      ],
      "metadata": {
        "id": "Btn4aL7YPyGU"
      },
      "execution_count": 34,
      "outputs": []
    },
    {
      "cell_type": "code",
      "source": [
        "def removeshortwords(text):\n",
        "    return ' '.join([word for word in text.split() if len (word) > 3])\n",
        "\n",
        "def removelongwords(text):\n",
        "    return' '.join([word for word in text.split() if len(word) < 6 ])"
      ],
      "metadata": {
        "id": "P6Gu9NtbQVnu"
      },
      "execution_count": 35,
      "outputs": []
    },
    {
      "cell_type": "code",
      "source": [
        "processingfunctions = [lowercase,removePunctuation,removeNewlines,removeshortwords,removelongwords]\n",
        "\n",
        "for func in processingfunctions:\n",
        "    text = func(text)\n",
        "\n",
        "print(text)"
      ],
      "metadata": {
        "id": "DRP1mgIhQ3wF",
        "outputId": "67c6be12-22b9-4818-9795-779bfb89ffc3",
        "colab": {
          "base_uri": "https://localhost:8080/"
        }
      },
      "execution_count": 58,
      "outputs": [
        {
          "output_type": "stream",
          "name": "stdout",
          "text": [
            "than ugly than than than flat than than dense cases break rules beats never pass face guess there only that first dutch than never never often than right hard it's idea easy good idea great idea let's more\n"
          ]
        }
      ]
    },
    {
      "cell_type": "markdown",
      "source": [
        "# Random\n"
      ],
      "metadata": {
        "id": "XlwnkKrqXVP4"
      }
    },
    {
      "cell_type": "code",
      "source": [
        "import random"
      ],
      "metadata": {
        "id": "psHZwYkWRInh"
      },
      "execution_count": 59,
      "outputs": []
    },
    {
      "cell_type": "code",
      "source": [
        "random_number = random.randint(23,88)\n",
        "random_number"
      ],
      "metadata": {
        "id": "4LWznVh3XxQj",
        "outputId": "d5b8b81d-a3b5-4fe5-98d9-922d9da4d5d5",
        "colab": {
          "base_uri": "https://localhost:8080/"
        }
      },
      "execution_count": 62,
      "outputs": [
        {
          "output_type": "execute_result",
          "data": {
            "text/plain": [
              "60"
            ]
          },
          "metadata": {},
          "execution_count": 62
        }
      ]
    },
    {
      "cell_type": "code",
      "source": [
        "random_float = random.random()"
      ],
      "metadata": {
        "id": "qgYkf63bYUkp"
      },
      "execution_count": 63,
      "outputs": []
    },
    {
      "cell_type": "code",
      "source": [
        "print(\"Random integer between 1 and 10:\", random_number)\n",
        "print(\"Random float between 0 and 1:\", random_float)"
      ],
      "metadata": {
        "id": "MTwvfwWpYlz-",
        "outputId": "ef9edd9c-59ae-40da-9216-bc690f5e081b",
        "colab": {
          "base_uri": "https://localhost:8080/"
        }
      },
      "execution_count": 64,
      "outputs": [
        {
          "output_type": "stream",
          "name": "stdout",
          "text": [
            "Random integer between 1 and 10: 60\n",
            "Random float between 0 and 1: 0.5483533107289108\n"
          ]
        }
      ]
    },
    {
      "cell_type": "code",
      "source": [],
      "metadata": {
        "id": "9HN1j0x-YtVy"
      },
      "execution_count": null,
      "outputs": []
    }
  ]
}