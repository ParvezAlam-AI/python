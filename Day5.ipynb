{
  "nbformat": 4,
  "nbformat_minor": 0,
  "metadata": {
    "colab": {
      "provenance": [],
      "toc_visible": true,
      "authorship_tag": "ABX9TyNp2PNyA8E/3foLLh8YfiIL",
      "include_colab_link": true
    },
    "kernelspec": {
      "name": "python3",
      "display_name": "Python 3"
    },
    "language_info": {
      "name": "python"
    }
  },
  "cells": [
    {
      "cell_type": "markdown",
      "metadata": {
        "id": "view-in-github",
        "colab_type": "text"
      },
      "source": [
        "<a href=\"https://colab.research.google.com/github/ParvezAlam-AI/python/blob/pythons_basics/Day5.ipynb\" target=\"_parent\"><img src=\"https://colab.research.google.com/assets/colab-badge.svg\" alt=\"Open In Colab\"/></a>"
      ]
    },
    {
      "cell_type": "markdown",
      "source": [
        "# Function\n",
        "\n"
      ],
      "metadata": {
        "id": "_UVq-q4N_clr"
      }
    },
    {
      "cell_type": "code",
      "source": [
        "def calculate_area(length, width):\n",
        " area = length * width\n",
        " return area"
      ],
      "metadata": {
        "id": "1RVe19LuCLhy"
      },
      "execution_count": 2,
      "outputs": []
    },
    {
      "cell_type": "code",
      "source": [
        "area_function = calculate_area\n",
        "\n",
        "area = area_function(10, 5)\n",
        "print(area)\n",
        "# Output: 50"
      ],
      "metadata": {
        "colab": {
          "base_uri": "https://localhost:8080/"
        },
        "id": "5Dn6TLRTCLZm",
        "outputId": "561fe339-796d-40d8-8b84-843232b4f7dd"
      },
      "execution_count": 5,
      "outputs": [
        {
          "output_type": "stream",
          "name": "stdout",
          "text": [
            "50\n"
          ]
        }
      ]
    },
    {
      "cell_type": "code",
      "execution_count": 6,
      "metadata": {
        "id": "zbbTIWDd-6oW"
      },
      "outputs": [],
      "source": [
        "def call_func(func,arg1,arg2):\n",
        "    result = func(arg1,arg2)\n",
        "    return result\n",
        "\n"
      ]
    },
    {
      "cell_type": "code",
      "source": [
        "area = call_func(calculate_area,10,4) # functon inside function with arguments inside the functions.\n",
        "print(area)"
      ],
      "metadata": {
        "colab": {
          "base_uri": "https://localhost:8080/"
        },
        "id": "h3qMQhcYCCRq",
        "outputId": "35dc90f2-3277-4016-e395-c81aaff05a9b"
      },
      "execution_count": 7,
      "outputs": [
        {
          "output_type": "stream",
          "name": "stdout",
          "text": [
            "40\n"
          ]
        }
      ]
    },
    {
      "cell_type": "code",
      "source": [],
      "metadata": {
        "id": "cLYc6tc9CdR5"
      },
      "execution_count": null,
      "outputs": []
    }
  ]
}