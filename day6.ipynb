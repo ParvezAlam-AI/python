{
  "nbformat": 4,
  "nbformat_minor": 0,
  "metadata": {
    "colab": {
      "provenance": [],
      "toc_visible": true,
      "authorship_tag": "ABX9TyOxswjK2I4KjtuRaiHAkQDR",
      "include_colab_link": true
    },
    "kernelspec": {
      "name": "python3",
      "display_name": "Python 3"
    },
    "language_info": {
      "name": "python"
    }
  },
  "cells": [
    {
      "cell_type": "markdown",
      "metadata": {
        "id": "view-in-github",
        "colab_type": "text"
      },
      "source": [
        "<a href=\"https://colab.research.google.com/github/ParvezAlam-AI/python/blob/pythons_basics/day6.ipynb\" target=\"_parent\"><img src=\"https://colab.research.google.com/assets/colab-badge.svg\" alt=\"Open In Colab\"/></a>"
      ]
    },
    {
      "cell_type": "markdown",
      "source": [
        "# Simple calculator"
      ],
      "metadata": {
        "id": "Y1eX1veZkcas"
      }
    },
    {
      "cell_type": "code",
      "execution_count": null,
      "metadata": {
        "id": "szsxwCYFjFHv"
      },
      "outputs": [],
      "source": [
        "operator = input(\"Enter an operator ( + - * /): \")\n",
        "num1 = float(input(\"Enter 1st number: \"))\n",
        "num2 = float(input(\"Enter 2nd number: \"))\n",
        "\n",
        "if operator == \"*\"\n",
        "    result = num1 + num2\n"
      ]
    },
    {
      "cell_type": "code",
      "source": [],
      "metadata": {
        "id": "HFvDSO3Zj7SF"
      },
      "execution_count": null,
      "outputs": []
    }
  ]
}