{
  "nbformat": 4,
  "nbformat_minor": 0,
  "metadata": {
    "colab": {
      "provenance": [],
      "toc_visible": true,
      "include_colab_link": true
    },
    "kernelspec": {
      "name": "python3",
      "display_name": "Python 3"
    },
    "language_info": {
      "name": "python"
    }
  },
  "cells": [
    {
      "cell_type": "markdown",
      "metadata": {
        "id": "view-in-github",
        "colab_type": "text"
      },
      "source": [
        "<a href=\"https://colab.research.google.com/github/ParvezAlam-AI/python/blob/pythons_basics/day6.ipynb\" target=\"_parent\"><img src=\"https://colab.research.google.com/assets/colab-badge.svg\" alt=\"Open In Colab\"/></a>"
      ]
    },
    {
      "cell_type": "markdown",
      "source": [
        "# Simple calculator"
      ],
      "metadata": {
        "id": "Y1eX1veZkcas"
      }
    },
    {
      "cell_type": "code",
      "execution_count": 4,
      "metadata": {
        "id": "szsxwCYFjFHv",
        "outputId": "b6bbe339-c1cb-4603-8e34-a1388edd524a",
        "colab": {
          "base_uri": "https://localhost:8080/"
        }
      },
      "outputs": [
        {
          "output_type": "stream",
          "name": "stdout",
          "text": [
            "Enter an operator ( + - * /): *\n",
            "Enter 1st number: 353651\n",
            "Enter 2nd number: 12112\n",
            "365763.0\n"
          ]
        }
      ],
      "source": [
        "operator = input(\"Enter an operator ( + - * /): \")\n",
        "num1 = float(input(\"Enter 1st number: \"))\n",
        "num2 = float(input(\"Enter 2nd number: \"))\n",
        "\n",
        "\n",
        "#conditional statement\n",
        "if operator == \"+\":\n",
        "    result = num1 + num2\n",
        "    print(round(result,2))\n",
        "elif operator == \"-\":\n",
        "    result = num1 + num2\n",
        "    print(round(result,2))\n",
        "elif operator == \"*\":\n",
        "    result = num1 + num2\n",
        "    print(round(result,2))\n",
        "elif operator == \"/\":\n",
        "    result = num1 + num2\n",
        "    print(round(result,2))\n",
        "else:\n",
        "    print(f\"{operator} is not valid operator \")\n",
        "\n",
        "\n"
      ]
    },
    {
      "cell_type": "code",
      "source": [],
      "metadata": {
        "id": "HFvDSO3Zj7SF"
      },
      "execution_count": null,
      "outputs": []
    }
  ]
}