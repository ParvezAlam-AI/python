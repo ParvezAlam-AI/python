{
  "nbformat": 4,
  "nbformat_minor": 0,
  "metadata": {
    "colab": {
      "provenance": [],
      "toc_visible": true,
      "authorship_tag": "ABX9TyNJ/q8R7OD+TBsjCEaUt5ot",
      "include_colab_link": true
    },
    "kernelspec": {
      "name": "python3",
      "display_name": "Python 3"
    },
    "language_info": {
      "name": "python"
    }
  },
  "cells": [
    {
      "cell_type": "markdown",
      "metadata": {
        "id": "view-in-github",
        "colab_type": "text"
      },
      "source": [
        "<a href=\"https://colab.research.google.com/github/ParvezAlam-AI/python/blob/pythons_basics/Day_8.ipynb\" target=\"_parent\"><img src=\"https://colab.research.google.com/assets/colab-badge.svg\" alt=\"Open In Colab\"/></a>"
      ]
    },
    {
      "cell_type": "markdown",
      "source": [
        "# Functions"
      ],
      "metadata": {
        "id": "JPfkHyX2Om66"
      }
    },
    {
      "cell_type": "code",
      "execution_count": null,
      "metadata": {
        "id": "IeIVt5oUOjyD"
      },
      "outputs": [],
      "source": [
        "import math"
      ]
    },
    {
      "cell_type": "code",
      "source": [
        "def pops(num1,num2,ops):\n",
        "    if ops == 'sum':\n",
        "        return num1 + num2\n",
        "    if ops == 'multi':\n",
        "        return num1 * num2\n",
        "\n",
        "pops(2,3,'multi')\n"
      ],
      "metadata": {
        "colab": {
          "base_uri": "https://localhost:8080/"
        },
        "id": "HmUKzIgIOofi",
        "outputId": "4cd9f30c-55ca-4a42-de5a-3cd07b24ef44"
      },
      "execution_count": null,
      "outputs": [
        {
          "output_type": "execute_result",
          "data": {
            "text/plain": [
              "6"
            ]
          },
          "metadata": {},
          "execution_count": 3
        }
      ]
    },
    {
      "cell_type": "code",
      "source": [
        "def oprs(num1, num2, ops = 'multi'):\n",
        "    if ops == 'sum':\n",
        "        return num1 + num2\n",
        "    if ops == 'multi':\n",
        "        return num1 * num2\n",
        "\n",
        "oprs(3,4)"
      ],
      "metadata": {
        "colab": {
          "base_uri": "https://localhost:8080/"
        },
        "id": "ROb8eDOvSytZ",
        "outputId": "db7d6cd6-7d50-48f8-9d2a-0f794ecd46fb"
      },
      "execution_count": null,
      "outputs": [
        {
          "output_type": "execute_result",
          "data": {
            "text/plain": [
              "12"
            ]
          },
          "metadata": {},
          "execution_count": 6
        }
      ]
    },
    {
      "cell_type": "code",
      "source": [
        "def opsarg(num1,num2, ops = 'sum', message = 'Default message'):\n",
        "    print(message)\n",
        "    if ops == 'sum':\n",
        "        return num1 + num2\n",
        "    if ops == 'multi':\n",
        "        return num1 * num2\n",
        "\n",
        "\n",
        "opsarg(4,5,ops = 'multi',message = 'a new message')"
      ],
      "metadata": {
        "colab": {
          "base_uri": "https://localhost:8080/"
        },
        "id": "XpQkCtULTSlS",
        "outputId": "41235c36-d676-4af4-cd51-70e5c6e4e14c"
      },
      "execution_count": null,
      "outputs": [
        {
          "output_type": "stream",
          "name": "stdout",
          "text": [
            "a new message\n"
          ]
        },
        {
          "output_type": "execute_result",
          "data": {
            "text/plain": [
              "20"
            ]
          },
          "metadata": {},
          "execution_count": 12
        }
      ]
    },
    {
      "cell_type": "code",
      "source": [
        "def pops(*args, **kwargs):\n",
        "    print(args)\n",
        "    print(kwargs)\n",
        "\n",
        "pops(1,2,3,4,5, ops = 'sum')"
      ],
      "metadata": {
        "colab": {
          "base_uri": "https://localhost:8080/"
        },
        "id": "RFSqAuY9T9rZ",
        "outputId": "1b82f447-b24d-4a8f-bef7-b2570cf37f02"
      },
      "execution_count": null,
      "outputs": [
        {
          "output_type": "stream",
          "name": "stdout",
          "text": [
            "(1, 2, 3, 4, 5)\n",
            "{'ops': 'sum'}\n"
          ]
        }
      ]
    },
    {
      "cell_type": "code",
      "source": [
        "def pos(*args, ops = 'sum'):\n",
        "    if ops == 'sum':\n",
        "        return sum(args)\n",
        "    if ops == 'multi':\n",
        "        return math.prod(args)\n",
        "\n",
        "pos(1,2,3,6,7,8,9, ops = 'multi')"
      ],
      "metadata": {
        "colab": {
          "base_uri": "https://localhost:8080/"
        },
        "id": "qZ4_-pCXUqsS",
        "outputId": "ed043741-9c41-4b94-f1fc-47a211bb63be"
      },
      "execution_count": null,
      "outputs": [
        {
          "output_type": "execute_result",
          "data": {
            "text/plain": [
              "18144"
            ]
          },
          "metadata": {},
          "execution_count": 17
        }
      ]
    },
    {
      "cell_type": "markdown",
      "source": [
        "global and local scope\n",
        "\n"
      ],
      "metadata": {
        "id": "s_J63qi8ZWMg"
      }
    },
    {
      "cell_type": "code",
      "source": [
        "message = 'a gloabl data'\n",
        "\n",
        "def func(varA, varB):\n",
        "    print(message)\n",
        "    print(locals())\n",
        "\n",
        "def func1(varC,vard):\n",
        "    print(message)\n",
        "    print(locals())\n",
        "\n",
        "func(1,2)\n",
        "func1(3,4)\n"
      ],
      "metadata": {
        "colab": {
          "base_uri": "https://localhost:8080/"
        },
        "id": "Ha2iskbJVJYJ",
        "outputId": "6102c61e-53a1-40f3-b70e-aaee99a626b6"
      },
      "execution_count": null,
      "outputs": [
        {
          "output_type": "stream",
          "name": "stdout",
          "text": [
            "a gloabl data\n",
            "{'varA': 1, 'varB': 2}\n",
            "a gloabl data\n",
            "{'varC': 3, 'vard': 4}\n"
          ]
        }
      ]
    },
    {
      "cell_type": "code",
      "source": [
        "2+3"
      ],
      "metadata": {
        "colab": {
          "base_uri": "https://localhost:8080/"
        },
        "id": "oFrhhkr6Z0fP",
        "outputId": "f247fc33-546d-4ac5-bbd8-70da7d092805"
      },
      "execution_count": null,
      "outputs": [
        {
          "output_type": "execute_result",
          "data": {
            "text/plain": [
              "5"
            ]
          },
          "metadata": {},
          "execution_count": 20
        }
      ]
    },
    {
      "cell_type": "code",
      "source": [
        "(lambda x: x+3)(5)"
      ],
      "metadata": {
        "colab": {
          "base_uri": "https://localhost:8080/"
        },
        "id": "_JJtW9UPanXn",
        "outputId": "27672aef-c6ed-4964-ee40-e6a2b764be74"
      },
      "execution_count": null,
      "outputs": [
        {
          "output_type": "execute_result",
          "data": {
            "text/plain": [
              "8"
            ]
          },
          "metadata": {},
          "execution_count": 21
        }
      ]
    },
    {
      "cell_type": "code",
      "source": [
        "mylist = [2,5,3,6,7]\n",
        "sorted(mylist)\n"
      ],
      "metadata": {
        "colab": {
          "base_uri": "https://localhost:8080/"
        },
        "id": "9pbFSK5AbBHn",
        "outputId": "9337983f-ce7e-4009-e884-1c9b0260a316"
      },
      "execution_count": null,
      "outputs": [
        {
          "output_type": "execute_result",
          "data": {
            "text/plain": [
              "[2, 3, 5, 6, 7]"
            ]
          },
          "metadata": {},
          "execution_count": 23
        }
      ]
    },
    {
      "cell_type": "code",
      "source": [
        "mylist  = [{'num':3},{'num':2},{'num':1}]\n"
      ],
      "metadata": {
        "id": "_K4RqnbfbPHJ"
      },
      "execution_count": 1,
      "outputs": []
    },
    {
      "cell_type": "code",
      "source": [
        "sorted(mylist, key=lambda x: x['num'])"
      ],
      "metadata": {
        "colab": {
          "base_uri": "https://localhost:8080/"
        },
        "id": "RoabN8QFbxxn",
        "outputId": "f27fe5a6-4b0e-4625-c640-1f10e8ea2130"
      },
      "execution_count": 2,
      "outputs": [
        {
          "output_type": "execute_result",
          "data": {
            "text/plain": [
              "[{'num': 1}, {'num': 2}, {'num': 3}]"
            ]
          },
          "metadata": {},
          "execution_count": 2
        }
      ]
    },
    {
      "cell_type": "code",
      "source": [],
      "metadata": {
        "id": "5mXrTIPodhYY"
      },
      "execution_count": null,
      "outputs": []
    },
    {
      "cell_type": "markdown",
      "source": [
        "# Random and string\n"
      ],
      "metadata": {
        "id": "RXgXOu8wD2Uv"
      }
    },
    {
      "cell_type": "code",
      "source": [
        "import random"
      ],
      "metadata": {
        "id": "7C0VIObTD4vH"
      },
      "execution_count": 3,
      "outputs": []
    },
    {
      "cell_type": "code",
      "source": [],
      "metadata": {
        "id": "a3xiAUE3D6Tm"
      },
      "execution_count": null,
      "outputs": []
    }
  ]
}