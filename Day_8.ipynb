{
  "nbformat": 4,
  "nbformat_minor": 0,
  "metadata": {
    "colab": {
      "provenance": [],
      "toc_visible": true,
      "authorship_tag": "ABX9TyNyeFmDMfWx6Tql4pqn8GYd",
      "include_colab_link": true
    },
    "kernelspec": {
      "name": "python3",
      "display_name": "Python 3"
    },
    "language_info": {
      "name": "python"
    }
  },
  "cells": [
    {
      "cell_type": "markdown",
      "metadata": {
        "id": "view-in-github",
        "colab_type": "text"
      },
      "source": [
        "<a href=\"https://colab.research.google.com/github/ParvezAlam-AI/python/blob/pythons_basics/Day_8.ipynb\" target=\"_parent\"><img src=\"https://colab.research.google.com/assets/colab-badge.svg\" alt=\"Open In Colab\"/></a>"
      ]
    },
    {
      "cell_type": "markdown",
      "source": [
        "# Functions"
      ],
      "metadata": {
        "id": "JPfkHyX2Om66"
      }
    },
    {
      "cell_type": "code",
      "execution_count": 1,
      "metadata": {
        "id": "IeIVt5oUOjyD"
      },
      "outputs": [],
      "source": [
        "import math"
      ]
    },
    {
      "cell_type": "code",
      "source": [
        "def pops(num1,num2,ops):\n",
        "    if ops == 'sum':\n",
        "        return num1 + num2\n",
        "    if ops == 'multi':\n",
        "        return num1 * num2\n",
        "\n",
        "pops(2,3,'multi')\n"
      ],
      "metadata": {
        "colab": {
          "base_uri": "https://localhost:8080/"
        },
        "id": "HmUKzIgIOofi",
        "outputId": "4cd9f30c-55ca-4a42-de5a-3cd07b24ef44"
      },
      "execution_count": 3,
      "outputs": [
        {
          "output_type": "execute_result",
          "data": {
            "text/plain": [
              "6"
            ]
          },
          "metadata": {},
          "execution_count": 3
        }
      ]
    },
    {
      "cell_type": "code",
      "source": [
        "def oprs(num1, num2, ops = 'multi'):\n",
        "    if ops == 'sum':\n",
        "        return num1 + num2\n",
        "    if ops == 'multi':\n",
        "        return num1 * num2\n",
        "\n",
        "oprs(3,4)"
      ],
      "metadata": {
        "colab": {
          "base_uri": "https://localhost:8080/"
        },
        "id": "ROb8eDOvSytZ",
        "outputId": "db7d6cd6-7d50-48f8-9d2a-0f794ecd46fb"
      },
      "execution_count": 6,
      "outputs": [
        {
          "output_type": "execute_result",
          "data": {
            "text/plain": [
              "12"
            ]
          },
          "metadata": {},
          "execution_count": 6
        }
      ]
    },
    {
      "cell_type": "code",
      "source": [
        "def opsarg(num1,num2, ops = 'sum', message = 'Default message'):\n",
        "    print(message)\n",
        "    if ops == 'sum':\n",
        "        return num1 + num2\n",
        "    if ops == 'multi':\n",
        "        return num1 * num2\n",
        "\n",
        "\n",
        "opsarg(4,5,ops = 'multi',message = 'a new message')"
      ],
      "metadata": {
        "colab": {
          "base_uri": "https://localhost:8080/"
        },
        "id": "XpQkCtULTSlS",
        "outputId": "41235c36-d676-4af4-cd51-70e5c6e4e14c"
      },
      "execution_count": 12,
      "outputs": [
        {
          "output_type": "stream",
          "name": "stdout",
          "text": [
            "a new message\n"
          ]
        },
        {
          "output_type": "execute_result",
          "data": {
            "text/plain": [
              "20"
            ]
          },
          "metadata": {},
          "execution_count": 12
        }
      ]
    },
    {
      "cell_type": "code",
      "source": [
        "def pops(*args, **kwargs):\n",
        "    print(args)\n",
        "    print(kwargs)\n",
        "\n",
        "pops(1,2,3,4,5, ops = 'sum')"
      ],
      "metadata": {
        "colab": {
          "base_uri": "https://localhost:8080/"
        },
        "id": "RFSqAuY9T9rZ",
        "outputId": "1b82f447-b24d-4a8f-bef7-b2570cf37f02"
      },
      "execution_count": 13,
      "outputs": [
        {
          "output_type": "stream",
          "name": "stdout",
          "text": [
            "(1, 2, 3, 4, 5)\n",
            "{'ops': 'sum'}\n"
          ]
        }
      ]
    },
    {
      "cell_type": "code",
      "source": [
        "def pos(*args, ops = 'sum'):\n",
        "    if ops == 'sum':\n",
        "        return sum(args)\n",
        "    if ops == 'multi':\n",
        "        return math.prod(args)\n",
        "\n",
        "pos(1,2,3,6,7,8,9, ops = 'multi')"
      ],
      "metadata": {
        "colab": {
          "base_uri": "https://localhost:8080/"
        },
        "id": "qZ4_-pCXUqsS",
        "outputId": "ed043741-9c41-4b94-f1fc-47a211bb63be"
      },
      "execution_count": 17,
      "outputs": [
        {
          "output_type": "execute_result",
          "data": {
            "text/plain": [
              "18144"
            ]
          },
          "metadata": {},
          "execution_count": 17
        }
      ]
    },
    {
      "cell_type": "code",
      "source": [],
      "metadata": {
        "id": "Ha2iskbJVJYJ"
      },
      "execution_count": null,
      "outputs": []
    }
  ]
}