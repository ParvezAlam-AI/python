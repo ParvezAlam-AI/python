{
  "nbformat": 4,
  "nbformat_minor": 0,
  "metadata": {
    "colab": {
      "provenance": [],
      "authorship_tag": "ABX9TyMVt4rLaEQc4Bhmxb03hmlb",
      "include_colab_link": true
    },
    "kernelspec": {
      "name": "python3",
      "display_name": "Python 3"
    },
    "language_info": {
      "name": "python"
    }
  },
  "cells": [
    {
      "cell_type": "markdown",
      "metadata": {
        "id": "view-in-github",
        "colab_type": "text"
      },
      "source": [
        "<a href=\"https://colab.research.google.com/github/ParvezAlam-AI/python/blob/pythons_basics/Basic_Python_Assesment_DDS.ipynb\" target=\"_parent\"><img src=\"https://colab.research.google.com/assets/colab-badge.svg\" alt=\"Open In Colab\"/></a>"
      ]
    },
    {
      "cell_type": "code",
      "execution_count": 2,
      "metadata": {
        "colab": {
          "base_uri": "https://localhost:8080/"
        },
        "id": "dIBhYye5SneL",
        "outputId": "fbeda677-b867-45f2-997d-458ef580bc63"
      },
      "outputs": [
        {
          "output_type": "stream",
          "name": "stdout",
          "text": [
            "10\n"
          ]
        }
      ],
      "source": [
        "def foo(x):\n",
        "    if x <= 0:\n",
        "        return 0\n",
        "    else:\n",
        "        return x + (foo(x-1))\n",
        "\n",
        "print(foo(4))"
      ]
    },
    {
      "cell_type": "code",
      "source": [
        "def outer_func(x):\n",
        "    def inner_func(y):\n",
        "        return x + y\n",
        "    return inner_func\n",
        "\n",
        "add_five = outer_func(5)\n",
        "result = add_five(3)\n",
        "print(result)"
      ],
      "metadata": {
        "colab": {
          "base_uri": "https://localhost:8080/"
        },
        "id": "FRQeX7dES6Do",
        "outputId": "94d9e336-3efc-4260-9eaf-b928486ac4f0"
      },
      "execution_count": 3,
      "outputs": [
        {
          "output_type": "stream",
          "name": "stdout",
          "text": [
            "8\n"
          ]
        }
      ]
    },
    {
      "cell_type": "code",
      "source": [
        "def bar():\n",
        "    try:\n",
        "        return 4\n",
        "    finally:\n",
        "        return 5\n",
        "\n",
        "print(bar())\n",
        "#"
      ],
      "metadata": {
        "colab": {
          "base_uri": "https://localhost:8080/"
        },
        "id": "t3hyqa_dYF13",
        "outputId": "624f98f7-b4eb-4db6-c8d7-ffbfee070228"
      },
      "execution_count": 4,
      "outputs": [
        {
          "output_type": "stream",
          "name": "stdout",
          "text": [
            "5\n"
          ]
        }
      ]
    },
    {
      "cell_type": "code",
      "source": [
        "def func(x,lst=[]):\n",
        "  lst.append(x)\n",
        "  return lst\n",
        "\n",
        "print(func(1))\n",
        "print(func(2))"
      ],
      "metadata": {
        "colab": {
          "base_uri": "https://localhost:8080/"
        },
        "id": "btB8Em0xc8NI",
        "outputId": "479da400-8d8e-4d17-b1e7-efa3e30a38ee"
      },
      "execution_count": 5,
      "outputs": [
        {
          "output_type": "stream",
          "name": "stdout",
          "text": [
            "[1]\n",
            "[1, 2]\n"
          ]
        }
      ]
    },
    {
      "cell_type": "code",
      "source": [
        "x = 2\n",
        "lst= [x]\n",
        "print(lst.append(lst))"
      ],
      "metadata": {
        "colab": {
          "base_uri": "https://localhost:8080/"
        },
        "id": "KElb-jvGeJ51",
        "outputId": "eda3b96f-908f-4c76-eeab-fbdb791b8ff5"
      },
      "execution_count": 7,
      "outputs": [
        {
          "output_type": "stream",
          "name": "stdout",
          "text": [
            "None\n"
          ]
        }
      ]
    },
    {
      "cell_type": "code",
      "source": [
        "lst = [3,1,4,2,0]\n",
        "n = len(lst)\n",
        "for i in range(n):\n",
        "    if lst[i] == i:\n",
        "        lst[i], lst[i+1] = lst[i+1], lst[1]"
      ],
      "metadata": {
        "id": "j90I2ExgePEl"
      },
      "execution_count": 1,
      "outputs": []
    },
    {
      "cell_type": "code",
      "source": [
        "a = [1,2,3,4,5]\n",
        "b = a\n",
        "c = a[:]\n",
        "print(c)\n",
        "print(b)"
      ],
      "metadata": {
        "colab": {
          "base_uri": "https://localhost:8080/"
        },
        "id": "u-tQ3xR3NpZL",
        "outputId": "d77e4907-664c-43a4-fbce-d352771dae44"
      },
      "execution_count": 8,
      "outputs": [
        {
          "output_type": "stream",
          "name": "stdout",
          "text": [
            "[1, 2, 3, 4, 5]\n",
            "[1, 2, 3, 4, 5]\n"
          ]
        }
      ]
    },
    {
      "cell_type": "code",
      "source": [
        "x = 10\n",
        "\n",
        "if x > 5:\n",
        "    print(\"x is greater than 5\")\n",
        "elif x > 7:\n",
        "    print(\"x is equal to 7\")\n",
        "elif x >9:\n",
        "    print(\"x is equal to 10\")\n",
        "else:\n",
        "    print(\"x is not greater than 5\")\n",
        "#"
      ],
      "metadata": {
        "colab": {
          "base_uri": "https://localhost:8080/"
        },
        "id": "q_ZoXPluRk2Y",
        "outputId": "a28c5701-029b-4919-816e-d0869779ada0"
      },
      "execution_count": 9,
      "outputs": [
        {
          "output_type": "stream",
          "name": "stdout",
          "text": [
            "x is greater than 5\n"
          ]
        }
      ]
    },
    {
      "cell_type": "code",
      "source": [
        "a = [1,2,3,4,5]\n",
        "resutl = list(map(lambda x: x*2, a))\n",
        "print(resutl)"
      ],
      "metadata": {
        "colab": {
          "base_uri": "https://localhost:8080/"
        },
        "id": "6CUEYt8FUh4x",
        "outputId": "ac3bef90-5d68-457d-9dcd-c45e22934e71"
      },
      "execution_count": 10,
      "outputs": [
        {
          "output_type": "stream",
          "name": "stdout",
          "text": [
            "[2, 4, 6, 8, 10]\n"
          ]
        }
      ]
    },
    {
      "cell_type": "code",
      "source": [
        "import pandas as pd\n",
        "import numpy as np\n",
        "\n",
        "from  datetime import  datetime\n",
        "import time"
      ],
      "metadata": {
        "id": "wpmWOba3U32C"
      },
      "execution_count": 20,
      "outputs": []
    },
    {
      "cell_type": "code",
      "source": [
        "wait_until = datetime.now().second + 2\n",
        "while datetime.now().second != wait_until:\n",
        "    print('still waiting')\n",
        "pri(f'we are {wait_until}')\n",
        "\n",
        "#this will run in loop"
      ],
      "metadata": {
        "colab": {
          "base_uri": "https://localhost:8080/",
          "height": 106
        },
        "id": "aW6eI8OrWHgh",
        "outputId": "2a943918-461c-49fa-f9a6-17b996ae9067"
      },
      "execution_count": 23,
      "outputs": [
        {
          "output_type": "error",
          "ename": "SyntaxError",
          "evalue": "unterminated string literal (detected at line 4) (<ipython-input-23-bbb9fd1c55e7>, line 4)",
          "traceback": [
            "\u001b[0;36m  File \u001b[0;32m\"<ipython-input-23-bbb9fd1c55e7>\"\u001b[0;36m, line \u001b[0;32m4\u001b[0m\n\u001b[0;31m    print(f'we are {w\u001b[0m\n\u001b[0m          ^\u001b[0m\n\u001b[0;31mSyntaxError\u001b[0m\u001b[0;31m:\u001b[0m unterminated string literal (detected at line 4)\n"
          ]
        }
      ]
    },
    {
      "cell_type": "code",
      "source": [
        "import itertools\n",
        "def fibonacci():\n",
        "    a,b = 0,1\n",
        "    while True:\n",
        "        yield a\n",
        "        a, b = b, a+b\n",
        "\n",
        "fib = fibonacci()\n",
        "result = itertools.islice(fib, 10)\n",
        "print(list(result))"
      ],
      "metadata": {
        "colab": {
          "base_uri": "https://localhost:8080/"
        },
        "id": "n0AxzVRbWJ8A",
        "outputId": "70b81d3f-35d8-4527-b287-71176af1b147"
      },
      "execution_count": 25,
      "outputs": [
        {
          "output_type": "stream",
          "name": "stdout",
          "text": [
            "[0, 1, 1, 2, 3, 5, 8, 13, 21, 34]\n"
          ]
        }
      ]
    },
    {
      "cell_type": "code",
      "source": [],
      "metadata": {
        "id": "ho-DykBgYvb4"
      },
      "execution_count": null,
      "outputs": []
    }
  ]
}