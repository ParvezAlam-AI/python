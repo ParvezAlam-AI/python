{
  "nbformat": 4,
  "nbformat_minor": 0,
  "metadata": {
    "colab": {
      "provenance": [],
      "authorship_tag": "ABX9TyPBVHv/wjiRLILB7q/S1T9I",
      "include_colab_link": true
    },
    "kernelspec": {
      "name": "python3",
      "display_name": "Python 3"
    },
    "language_info": {
      "name": "python"
    }
  },
  "cells": [
    {
      "cell_type": "markdown",
      "metadata": {
        "id": "view-in-github",
        "colab_type": "text"
      },
      "source": [
        "<a href=\"https://colab.research.google.com/github/ParvezAlam-AI/python/blob/main/Basic_Python_Assesment_DDS.ipynb\" target=\"_parent\"><img src=\"https://colab.research.google.com/assets/colab-badge.svg\" alt=\"Open In Colab\"/></a>"
      ]
    },
    {
      "cell_type": "code",
      "execution_count": 2,
      "metadata": {
        "colab": {
          "base_uri": "https://localhost:8080/"
        },
        "id": "dIBhYye5SneL",
        "outputId": "fbeda677-b867-45f2-997d-458ef580bc63"
      },
      "outputs": [
        {
          "output_type": "stream",
          "name": "stdout",
          "text": [
            "10\n"
          ]
        }
      ],
      "source": [
        "def foo(x):\n",
        "    if x <= 0:\n",
        "        return 0\n",
        "    else:\n",
        "        return x + (foo(x-1))\n",
        "\n",
        "print(foo(4))"
      ]
    },
    {
      "cell_type": "code",
      "source": [
        "def outer_func(x):\n",
        "    def inner_func(y):\n",
        "        return x + y\n",
        "    return inner_func\n",
        "\n",
        "add_five = outer_func(5)\n",
        "result = add_five(3)\n",
        "print(result)"
      ],
      "metadata": {
        "colab": {
          "base_uri": "https://localhost:8080/"
        },
        "id": "FRQeX7dES6Do",
        "outputId": "94d9e336-3efc-4260-9eaf-b928486ac4f0"
      },
      "execution_count": 3,
      "outputs": [
        {
          "output_type": "stream",
          "name": "stdout",
          "text": [
            "8\n"
          ]
        }
      ]
    },
    {
      "cell_type": "code",
      "source": [
        "def bar():\n",
        "    try:\n",
        "        return 4\n",
        "    finally:\n",
        "        return 5\n",
        "\n",
        "print(bar())\n",
        "#"
      ],
      "metadata": {
        "colab": {
          "base_uri": "https://localhost:8080/"
        },
        "id": "t3hyqa_dYF13",
        "outputId": "624f98f7-b4eb-4db6-c8d7-ffbfee070228"
      },
      "execution_count": 4,
      "outputs": [
        {
          "output_type": "stream",
          "name": "stdout",
          "text": [
            "5\n"
          ]
        }
      ]
    },
    {
      "cell_type": "code",
      "source": [
        "def func(x,lst=[]):\n",
        "  lst.append(x)\n",
        "  return lst\n",
        "\n",
        "print(func(1))\n",
        "print(func(2))"
      ],
      "metadata": {
        "colab": {
          "base_uri": "https://localhost:8080/"
        },
        "id": "btB8Em0xc8NI",
        "outputId": "479da400-8d8e-4d17-b1e7-efa3e30a38ee"
      },
      "execution_count": 5,
      "outputs": [
        {
          "output_type": "stream",
          "name": "stdout",
          "text": [
            "[1]\n",
            "[1, 2]\n"
          ]
        }
      ]
    },
    {
      "cell_type": "code",
      "source": [
        "x = 2\n",
        "lst= [x]\n",
        "print(lst.append(lst))"
      ],
      "metadata": {
        "colab": {
          "base_uri": "https://localhost:8080/"
        },
        "id": "KElb-jvGeJ51",
        "outputId": "eda3b96f-908f-4c76-eeab-fbdb791b8ff5"
      },
      "execution_count": 7,
      "outputs": [
        {
          "output_type": "stream",
          "name": "stdout",
          "text": [
            "None\n"
          ]
        }
      ]
    },
    {
      "cell_type": "code",
      "source": [
        "lst = [3,1,4,2,0]\n",
        "n = len(lst)\n",
        "for i in range(n):\n",
        "    if lst[i] == i:\n",
        "        lst[i], lst[i+1] = lst[i+1], lst[1]"
      ],
      "metadata": {
        "id": "j90I2ExgePEl"
      },
      "execution_count": 10,
      "outputs": []
    }
  ]
}