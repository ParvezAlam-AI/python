{
  "nbformat": 4,
  "nbformat_minor": 0,
  "metadata": {
    "colab": {
      "provenance": [],
      "toc_visible": true,
      "include_colab_link": true
    },
    "kernelspec": {
      "name": "python3",
      "display_name": "Python 3"
    },
    "language_info": {
      "name": "python"
    }
  },
  "cells": [
    {
      "cell_type": "markdown",
      "metadata": {
        "id": "view-in-github",
        "colab_type": "text"
      },
      "source": [
        "<a href=\"https://colab.research.google.com/github/ParvezAlam-AI/python/blob/pythons_basics/Challenge_Data_Type.ipynb\" target=\"_parent\"><img src=\"https://colab.research.google.com/assets/colab-badge.svg\" alt=\"Open In Colab\"/></a>"
      ]
    },
    {
      "cell_type": "code",
      "execution_count": null,
      "metadata": {
        "colab": {
          "base_uri": "https://localhost:8080/"
        },
        "id": "IY1xaEsNGC-x",
        "outputId": "f412c1c5-b2c5-4b5e-8576-22d56aecb38f"
      },
      "outputs": [
        {
          "output_type": "stream",
          "name": "stdout",
          "text": [
            "Enter your name: ranga\n",
            "Enter your age: 50\n",
            "Then name is ranga and age is 50\n",
            "The type of the variable is name:<class 'str'>, age: <class 'int'> \n"
          ]
        }
      ],
      "source": [
        "nameinput = str(input(\"Enter your name: \"))\n",
        "ageainput = int(input(\"Enter your age: \"))\n",
        "nametype = type(nameinput)\n",
        "agetype = type(ageainput)\n",
        "\n",
        "\n",
        "message = \"Then name is {} and age is {}\".format(nameinput,ageainputjjjjj)\n",
        "typemessage = \"The type of the variable is name:{}, age: {} \".format(nametype,agetype)\n",
        "\n",
        "print(message)\n",
        "print(typemessage)\n"
      ]
    },
    {
      "cell_type": "markdown",
      "source": [
        "# Challenge Data Structures"
      ],
      "metadata": {
        "id": "ErjHym-GA_g9"
      }
    },
    {
      "cell_type": "code",
      "source": [
        "k = 3\n",
        "\n",
        "numbers =  [4, 9, 2, 7, 5, 1]\n",
        "numbers.sort()\n",
        "numbers[3]"
      ],
      "metadata": {
        "id": "3hxH2vyvBHUe",
        "outputId": "e618536c-573d-44d6-b995-354e76bb8120",
        "colab": {
          "base_uri": "https://localhost:8080/"
        }
      },
      "execution_count": null,
      "outputs": [
        {
          "output_type": "execute_result",
          "data": {
            "text/plain": [
              "5"
            ]
          },
          "metadata": {},
          "execution_count": 3
        }
      ]
    },
    {
      "cell_type": "code",
      "source": [
        "k = 3\n",
        "numbers =  [4, 9, 2, 7, 5, 1]\n",
        "\n",
        "def kth_largest(k):\n",
        "    numbers.sort()\n",
        "    return numbers[3]\n",
        "\n",
        "print(kth_largest)"
      ],
      "metadata": {
        "id": "--PJlQdlBg22",
        "outputId": "1147e183-67fa-4b28-ba9d-37eeb866b6fc",
        "colab": {
          "base_uri": "https://localhost:8080/"
        }
      },
      "execution_count": null,
      "outputs": [
        {
          "output_type": "execute_result",
          "data": {
            "text/plain": [
              "<function __main__.kth_largest(k)>"
            ],
            "text/html": [
              "<div style=\"max-width:800px; border: 1px solid var(--colab-border-color);\"><style>\n",
              "      pre.function-repr-contents {\n",
              "        overflow-x: auto;\n",
              "        padding: 8px 12px;\n",
              "        max-height: 500px;\n",
              "      }\n",
              "\n",
              "      pre.function-repr-contents.function-repr-contents-collapsed {\n",
              "        cursor: pointer;\n",
              "        max-height: 100px;\n",
              "      }\n",
              "    </style>\n",
              "    <pre style=\"white-space: initial; background:\n",
              "         var(--colab-secondary-surface-color); padding: 8px 12px;\n",
              "         border-bottom: 1px solid var(--colab-border-color);\"><b>kth_largest</b><br/>def kth_largest(k)</pre><pre class=\"function-repr-contents function-repr-contents-collapsed\" style=\"\"><a class=\"filepath\" style=\"display:none\" href=\"#\">/content/&lt;ipython-input-1-09e16f2d9811&gt;</a>&lt;no docstring&gt;</pre></div>"
            ]
          },
          "metadata": {},
          "execution_count": 1
        }
      ]
    },
    {
      "cell_type": "code",
      "source": [
        "k = 3\n",
        "numbers =  [4, 9, 2, 7, 5, 1]\n",
        "\n",
        "def kth_largest(k, numbers):\n",
        "    numbers.sort(reverse=True)\n",
        "    print(kth_largest[k-1])\n",
        "\n",
        "kth_largest\n"
      ],
      "metadata": {
        "id": "eQI7qZXbZajO",
        "outputId": "3c03d4dc-4552-4cce-a96a-26c70ec2181d",
        "colab": {
          "base_uri": "https://localhost:8080/",
          "height": 103
        }
      },
      "execution_count": null,
      "outputs": [
        {
          "output_type": "execute_result",
          "data": {
            "text/plain": [
              "<function __main__.kth_largest(k, numbers)>"
            ],
            "text/html": [
              "<div style=\"max-width:800px; border: 1px solid var(--colab-border-color);\"><style>\n",
              "      pre.function-repr-contents {\n",
              "        overflow-x: auto;\n",
              "        padding: 8px 12px;\n",
              "        max-height: 500px;\n",
              "      }\n",
              "\n",
              "      pre.function-repr-contents.function-repr-contents-collapsed {\n",
              "        cursor: pointer;\n",
              "        max-height: 100px;\n",
              "      }\n",
              "    </style>\n",
              "    <pre style=\"white-space: initial; background:\n",
              "         var(--colab-secondary-surface-color); padding: 8px 12px;\n",
              "         border-bottom: 1px solid var(--colab-border-color);\"><b>kth_largest</b><br/>def kth_largest(k, numbers)</pre><pre class=\"function-repr-contents function-repr-contents-collapsed\" style=\"\"><a class=\"filepath\" style=\"display:none\" href=\"#\">/content/&lt;ipython-input-9-2527fc4d956d&gt;</a>&lt;no docstring&gt;</pre></div>"
            ]
          },
          "metadata": {},
          "execution_count": 9
        }
      ]
    },
    {
      "cell_type": "code",
      "source": [
        "def myfun  (country):\n",
        "    print(\"i am from\" + country)\n",
        "\n",
        "myfun(\"Sweden\")"
      ],
      "metadata": {
        "id": "79fDMbnQZqii",
        "outputId": "0042ec8a-4067-4c66-df89-d38b0e1d8bae",
        "colab": {
          "base_uri": "https://localhost:8080/"
        }
      },
      "execution_count": null,
      "outputs": [
        {
          "output_type": "stream",
          "name": "stdout",
          "text": [
            "i am fromSweden\n"
          ]
        }
      ]
    },
    {
      "cell_type": "code",
      "source": [
        "a = 5\n",
        "def myfun(x,a):\n",
        "    return 5 * x +a\n",
        "\n",
        "myfun(3, a+2)"
      ],
      "metadata": {
        "id": "qPsPQ7hdk_bv",
        "outputId": "40bdf510-631b-48a8-8add-7140943584db",
        "colab": {
          "base_uri": "https://localhost:8080/"
        }
      },
      "execution_count": null,
      "outputs": [
        {
          "output_type": "execute_result",
          "data": {
            "text/plain": [
              "22"
            ]
          },
          "metadata": {},
          "execution_count": 18
        }
      ]
    },
    {
      "cell_type": "code",
      "source": [
        "# my solution\n",
        "\n",
        "k = 3\n",
        "numbers =  [4, 9, 2, 7, 5, 1]\n",
        "\n",
        "def k_largest(k,numbers):\n",
        "    numbers.sort(reverse=True)\n",
        "    return numbers[k-1]\n",
        "\n",
        "\n",
        "k_largest(k,numbers)\n"
      ],
      "metadata": {
        "id": "2mryfC0ulZAM",
        "outputId": "5d3a7b67-1332-495e-beac-9a2e46cef342",
        "colab": {
          "base_uri": "https://localhost:8080/"
        }
      },
      "execution_count": null,
      "outputs": [
        {
          "output_type": "execute_result",
          "data": {
            "text/plain": [
              "5"
            ]
          },
          "metadata": {},
          "execution_count": 29
        }
      ]
    },
    {
      "cell_type": "code",
      "source": [
        "# dds solution\n",
        "\n",
        "k = 3\n",
        "numbers =  [4, 9, 2, 7, 5, 1]\n",
        "\n",
        "def find_kth(numbers,k):\n",
        "    numbers.sort(reverse=True)\n",
        "    print(numbers[k-1])\n",
        "\n",
        "find_kth(numbers,k)"
      ],
      "metadata": {
        "id": "DKWTe8VJzGOY",
        "outputId": "3bbc05a9-7bad-4d37-bdcb-9df9c7f9dbe8",
        "colab": {
          "base_uri": "https://localhost:8080/"
        }
      },
      "execution_count": null,
      "outputs": [
        {
          "output_type": "stream",
          "name": "stdout",
          "text": [
            "5\n"
          ]
        }
      ]
    },
    {
      "cell_type": "markdown",
      "source": [
        "# Challenge for Loops"
      ],
      "metadata": {
        "id": "kOSJ8_7w5rCw"
      }
    },
    {
      "cell_type": "code",
      "source": [
        "squares =[ x**2 for x in range(4,11)]\n",
        "squares"
      ],
      "metadata": {
        "id": "zZgRyeuI9dN_",
        "colab": {
          "base_uri": "https://localhost:8080/"
        },
        "outputId": "60ff59f0-1d62-4690-b110-6d6d1e03d82a"
      },
      "execution_count": null,
      "outputs": [
        {
          "output_type": "execute_result",
          "data": {
            "text/plain": [
              "[16, 25, 36, 49, 64, 81, 100]"
            ]
          },
          "metadata": {},
          "execution_count": 8
        }
      ]
    },
    {
      "cell_type": "code",
      "source": [
        "# my solution\n",
        "for x in range(4,11):\n",
        "    if x % 2 == 0:\n",
        "      print(x)\n"
      ],
      "metadata": {
        "colab": {
          "base_uri": "https://localhost:8080/"
        },
        "id": "Fn5_piYH57gt",
        "outputId": "36230335-471e-4d18-efe8-edd3e571f951"
      },
      "execution_count": null,
      "outputs": [
        {
          "output_type": "stream",
          "name": "stdout",
          "text": [
            "4\n",
            "6\n",
            "8\n",
            "10\n"
          ]
        }
      ]
    },
    {
      "cell_type": "code",
      "source": [
        "# dds solution\n",
        "\n",
        "start = int(input(\"enter start range: \"))\n",
        "endrange = int(input(\"enter end range: \"))\n",
        "\n",
        "for x in range(start,endrange + 1):\n",
        "    if x % 2 == 0:\n",
        "      print(x, end= \" \")"
      ],
      "metadata": {
        "colab": {
          "base_uri": "https://localhost:8080/"
        },
        "id": "ep8mKhR27APr",
        "outputId": "9b79c19e-27fd-498f-afa3-59da1113f456"
      },
      "execution_count": null,
      "outputs": [
        {
          "output_type": "stream",
          "name": "stdout",
          "text": [
            "enter start range: 5\n",
            "enter end range: 12\n",
            "6 8 10 12 "
          ]
        }
      ]
    },
    {
      "cell_type": "markdown",
      "source": [
        "For example print first n (ask user Input) even numbers using the while loop in Python\n",
        "\n",
        "\n",
        "#example\n",
        "\n",
        "\n",
        "\n",
        "Enter a number of even numbers you want to see from start: 5\n",
        "\n",
        "2, 4, 6,8,10"
      ],
      "metadata": {
        "id": "WccX8fnR9rzK"
      }
    },
    {
      "cell_type": "code",
      "source": [
        "start = int(input(\"Enter a number of even numbers you want to see: \"))\n",
        "x = 1\n",
        "evencount = 0\n",
        "while evencount < start :\n",
        "    if x % 2 == 0:\n",
        "      print(x)\n",
        "      evencount += 1\n",
        "    x += 1\n",
        "\n"
      ],
      "metadata": {
        "colab": {
          "base_uri": "https://localhost:8080/"
        },
        "id": "upKxU2xx8ASM",
        "outputId": "5712a911-c9ca-4cda-ccb3-f4e7d2867505"
      },
      "execution_count": null,
      "outputs": [
        {
          "output_type": "stream",
          "name": "stdout",
          "text": [
            "Enter a number of even numbers you want to see: 5\n",
            "2\n",
            "4\n",
            "6\n",
            "8\n",
            "10\n"
          ]
        }
      ]
    },
    {
      "cell_type": "code",
      "source": [
        "5"
      ],
      "metadata": {
        "id": "adEWrs75-DiK"
      },
      "execution_count": null,
      "outputs": []
    }
  ]
}