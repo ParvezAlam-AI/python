{
  "nbformat": 4,
  "nbformat_minor": 0,
  "metadata": {
    "colab": {
      "provenance": [],
      "authorship_tag": "ABX9TyM8LW8gZuaRXBROEu08hTLZ",
      "include_colab_link": true
    },
    "kernelspec": {
      "name": "python3",
      "display_name": "Python 3"
    },
    "language_info": {
      "name": "python"
    }
  },
  "cells": [
    {
      "cell_type": "markdown",
      "metadata": {
        "id": "view-in-github",
        "colab_type": "text"
      },
      "source": [
        "<a href=\"https://colab.research.google.com/github/ParvezAlam-AI/python/blob/pythons_basics/Challenge_Data_Type.ipynb\" target=\"_parent\"><img src=\"https://colab.research.google.com/assets/colab-badge.svg\" alt=\"Open In Colab\"/></a>"
      ]
    },
    {
      "cell_type": "code",
      "execution_count": 15,
      "metadata": {
        "colab": {
          "base_uri": "https://localhost:8080/"
        },
        "id": "IY1xaEsNGC-x",
        "outputId": "f412c1c5-b2c5-4b5e-8576-22d56aecb38f"
      },
      "outputs": [
        {
          "output_type": "stream",
          "name": "stdout",
          "text": [
            "Enter your name: ranga\n",
            "Enter your age: 50\n",
            "Then name is ranga and age is 50\n",
            "The type of the variable is name:<class 'str'>, age: <class 'int'> \n"
          ]
        }
      ],
      "source": [
        "nameinput = str(input(\"Enter your name: \"))\n",
        "ageainput = int(input(\"Enter your age: \"))\n",
        "nametype = type(nameinput)\n",
        "agetype = type(ageainput)\n",
        "\n",
        "\n",
        "message = \"Then name is {} and age is {}\".format(nameinput,ageainput)\n",
        "typemessage = \"The type of the variable is name:{}, age: {} \".format(nametype,agetype)\n",
        "\n",
        "print(message)\n",
        "print(typemessage)\n"
      ]
    }
  ]
}