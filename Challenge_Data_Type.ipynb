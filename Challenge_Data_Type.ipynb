{
  "nbformat": 4,
  "nbformat_minor": 0,
  "metadata": {
    "colab": {
      "provenance": [],
      "toc_visible": true,
      "authorship_tag": "ABX9TyPIqi+oQAJyCJQhv04Z+vx4",
      "include_colab_link": true
    },
    "kernelspec": {
      "name": "python3",
      "display_name": "Python 3"
    },
    "language_info": {
      "name": "python"
    }
  },
  "cells": [
    {
      "cell_type": "markdown",
      "metadata": {
        "id": "view-in-github",
        "colab_type": "text"
      },
      "source": [
        "<a href=\"https://colab.research.google.com/github/ParvezAlam-AI/python/blob/pythons_basics/Challenge_Data_Type.ipynb\" target=\"_parent\"><img src=\"https://colab.research.google.com/assets/colab-badge.svg\" alt=\"Open In Colab\"/></a>"
      ]
    },
    {
      "cell_type": "code",
      "execution_count": null,
      "metadata": {
        "colab": {
          "base_uri": "https://localhost:8080/"
        },
        "id": "IY1xaEsNGC-x",
        "outputId": "f412c1c5-b2c5-4b5e-8576-22d56aecb38f"
      },
      "outputs": [
        {
          "output_type": "stream",
          "name": "stdout",
          "text": [
            "Enter your name: ranga\n",
            "Enter your age: 50\n",
            "Then name is ranga and age is 50\n",
            "The type of the variable is name:<class 'str'>, age: <class 'int'> \n"
          ]
        }
      ],
      "source": [
        "nameinput = str(input(\"Enter your name: \"))\n",
        "ageainput = int(input(\"Enter your age: \"))\n",
        "nametype = type(nameinput)\n",
        "agetype = type(ageainput)\n",
        "\n",
        "\n",
        "message = \"Then name is {} and age is {}\".format(nameinput,ageainput)\n",
        "typemessage = \"The type of the variable is name:{}, age: {} \".format(nametype,agetype)\n",
        "\n",
        "print(message)\n",
        "print(typemessage)\n"
      ]
    },
    {
      "cell_type": "markdown",
      "source": [
        "# Challenge Data Structures"
      ],
      "metadata": {
        "id": "ErjHym-GA_g9"
      }
    },
    {
      "cell_type": "code",
      "source": [
        "k = 3\n",
        "\n",
        "numbers =  [4, 9, 2, 7, 5, 1]\n",
        "numbers.sort()\n",
        "numbers[3]"
      ],
      "metadata": {
        "id": "3hxH2vyvBHUe",
        "outputId": "e618536c-573d-44d6-b995-354e76bb8120",
        "colab": {
          "base_uri": "https://localhost:8080/"
        }
      },
      "execution_count": 3,
      "outputs": [
        {
          "output_type": "execute_result",
          "data": {
            "text/plain": [
              "5"
            ]
          },
          "metadata": {},
          "execution_count": 3
        }
      ]
    },
    {
      "cell_type": "code",
      "source": [
        "k = 3\n",
        "numbers =  [4, 9, 2, 7, 5, 1]\n",
        "\n",
        "def kth_largest(k):\n",
        "    numbers.sort()\n",
        "    return numbers[3]\n",
        "\n",
        "print(kth_largest)"
      ],
      "metadata": {
        "id": "--PJlQdlBg22",
        "outputId": "1147e183-67fa-4b28-ba9d-37eeb866b6fc",
        "colab": {
          "base_uri": "https://localhost:8080/"
        }
      },
      "execution_count": 1,
      "outputs": [
        {
          "output_type": "execute_result",
          "data": {
            "text/plain": [
              "<function __main__.kth_largest(k)>"
            ],
            "text/html": [
              "<div style=\"max-width:800px; border: 1px solid var(--colab-border-color);\"><style>\n",
              "      pre.function-repr-contents {\n",
              "        overflow-x: auto;\n",
              "        padding: 8px 12px;\n",
              "        max-height: 500px;\n",
              "      }\n",
              "\n",
              "      pre.function-repr-contents.function-repr-contents-collapsed {\n",
              "        cursor: pointer;\n",
              "        max-height: 100px;\n",
              "      }\n",
              "    </style>\n",
              "    <pre style=\"white-space: initial; background:\n",
              "         var(--colab-secondary-surface-color); padding: 8px 12px;\n",
              "         border-bottom: 1px solid var(--colab-border-color);\"><b>kth_largest</b><br/>def kth_largest(k)</pre><pre class=\"function-repr-contents function-repr-contents-collapsed\" style=\"\"><a class=\"filepath\" style=\"display:none\" href=\"#\">/content/&lt;ipython-input-1-09e16f2d9811&gt;</a>&lt;no docstring&gt;</pre></div>"
            ]
          },
          "metadata": {},
          "execution_count": 1
        }
      ]
    },
    {
      "cell_type": "code",
      "source": [
        "k = 3\n",
        "numbers =  [4, 9, 2, 7, 5, 1]\n",
        "\n",
        "def kth_largest(k, numbers):\n",
        "    numbers.sort(reverse=True)\n",
        "    print(kth_largest[k-1])\n",
        "\n",
        "kth_largest\n"
      ],
      "metadata": {
        "id": "eQI7qZXbZajO",
        "outputId": "3c03d4dc-4552-4cce-a96a-26c70ec2181d",
        "colab": {
          "base_uri": "https://localhost:8080/",
          "height": 103
        }
      },
      "execution_count": 9,
      "outputs": [
        {
          "output_type": "execute_result",
          "data": {
            "text/plain": [
              "<function __main__.kth_largest(k, numbers)>"
            ],
            "text/html": [
              "<div style=\"max-width:800px; border: 1px solid var(--colab-border-color);\"><style>\n",
              "      pre.function-repr-contents {\n",
              "        overflow-x: auto;\n",
              "        padding: 8px 12px;\n",
              "        max-height: 500px;\n",
              "      }\n",
              "\n",
              "      pre.function-repr-contents.function-repr-contents-collapsed {\n",
              "        cursor: pointer;\n",
              "        max-height: 100px;\n",
              "      }\n",
              "    </style>\n",
              "    <pre style=\"white-space: initial; background:\n",
              "         var(--colab-secondary-surface-color); padding: 8px 12px;\n",
              "         border-bottom: 1px solid var(--colab-border-color);\"><b>kth_largest</b><br/>def kth_largest(k, numbers)</pre><pre class=\"function-repr-contents function-repr-contents-collapsed\" style=\"\"><a class=\"filepath\" style=\"display:none\" href=\"#\">/content/&lt;ipython-input-9-2527fc4d956d&gt;</a>&lt;no docstring&gt;</pre></div>"
            ]
          },
          "metadata": {},
          "execution_count": 9
        }
      ]
    },
    {
      "cell_type": "code",
      "source": [
        "def myfun  (country):\n",
        "    print(\"i am from\" + country)\n",
        "\n",
        "myfun(\"Sweden\")"
      ],
      "metadata": {
        "id": "79fDMbnQZqii",
        "outputId": "0042ec8a-4067-4c66-df89-d38b0e1d8bae",
        "colab": {
          "base_uri": "https://localhost:8080/"
        }
      },
      "execution_count": 12,
      "outputs": [
        {
          "output_type": "stream",
          "name": "stdout",
          "text": [
            "i am fromSweden\n"
          ]
        }
      ]
    },
    {
      "cell_type": "code",
      "source": [
        "a = 5\n",
        "def myfun(x,a):\n",
        "    return 5 * x +a\n",
        "\n",
        "myfun(3, a+2)"
      ],
      "metadata": {
        "id": "qPsPQ7hdk_bv",
        "outputId": "40bdf510-631b-48a8-8add-7140943584db",
        "colab": {
          "base_uri": "https://localhost:8080/"
        }
      },
      "execution_count": 18,
      "outputs": [
        {
          "output_type": "execute_result",
          "data": {
            "text/plain": [
              "22"
            ]
          },
          "metadata": {},
          "execution_count": 18
        }
      ]
    },
    {
      "cell_type": "code",
      "source": [
        "# my solution\n",
        "\n",
        "k = 3\n",
        "numbers =  [4, 9, 2, 7, 5, 1]\n",
        "\n",
        "def k_largest(k,numbers):\n",
        "    numbers.sort(reverse=True)\n",
        "    return numbers[k-1]\n",
        "\n",
        "\n",
        "k_largest(k,numbers)\n"
      ],
      "metadata": {
        "id": "2mryfC0ulZAM",
        "outputId": "5d3a7b67-1332-495e-beac-9a2e46cef342",
        "colab": {
          "base_uri": "https://localhost:8080/"
        }
      },
      "execution_count": 29,
      "outputs": [
        {
          "output_type": "execute_result",
          "data": {
            "text/plain": [
              "5"
            ]
          },
          "metadata": {},
          "execution_count": 29
        }
      ]
    },
    {
      "cell_type": "code",
      "source": [
        "# dds solution\n",
        "\n",
        "k = 3\n",
        "numbers =  [4, 9, 2, 7, 5, 1]\n",
        "\n",
        "def find_kth(numbers,k):\n",
        "    numbers.sort(reverse=True)\n",
        "    print(numbers[k-1])\n",
        "\n",
        "find_kth(numbers,k)"
      ],
      "metadata": {
        "id": "DKWTe8VJzGOY",
        "outputId": "3bbc05a9-7bad-4d37-bdcb-9df9c7f9dbe8",
        "colab": {
          "base_uri": "https://localhost:8080/"
        }
      },
      "execution_count": 30,
      "outputs": [
        {
          "output_type": "stream",
          "name": "stdout",
          "text": [
            "5\n"
          ]
        }
      ]
    },
    {
      "cell_type": "code",
      "source": [],
      "metadata": {
        "id": "zZgRyeuI9dN_"
      },
      "execution_count": null,
      "outputs": []
    }
  ]
}