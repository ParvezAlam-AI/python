{
  "nbformat": 4,
  "nbformat_minor": 0,
  "metadata": {
    "colab": {
      "provenance": [],
      "toc_visible": true,
      "authorship_tag": "ABX9TyNVnRMmOG2TaPFwBJS+oNzm",
      "include_colab_link": true
    },
    "kernelspec": {
      "name": "python3",
      "display_name": "Python 3"
    },
    "language_info": {
      "name": "python"
    }
  },
  "cells": [
    {
      "cell_type": "markdown",
      "metadata": {
        "id": "view-in-github",
        "colab_type": "text"
      },
      "source": [
        "<a href=\"https://colab.research.google.com/github/ParvezAlam-AI/python/blob/pythons_basics/Challenge_python.ipynb\" target=\"_parent\"><img src=\"https://colab.research.google.com/assets/colab-badge.svg\" alt=\"Open In Colab\"/></a>"
      ]
    },
    {
      "cell_type": "code",
      "execution_count": null,
      "metadata": {
        "id": "xou_j0UxF8Na"
      },
      "outputs": [],
      "source": []
    },
    {
      "cell_type": "markdown",
      "source": [
        "# Control flow\n"
      ],
      "metadata": {
        "id": "Z7OZs_k2GAAf"
      }
    },
    {
      "cell_type": "markdown",
      "source": [
        "Write a program that prompts the user to enter a number between 1 and 100. If the number is less than 1 or greater than 100, the program should print an error message and prompt the user to try again. If the number is between 1 and 100, the program should print whether the number is even or odd, and whether it is a multiple of 3.\n",
        "\n",
        "\n",
        "\n",
        "For example, if the user enters 23, the program should print:\n",
        "\n",
        "23 is odd. 23 is not a multiple of 3.\n",
        "And if the user enters 30, the program should print:\n",
        "\n",
        "30 is even. 30 is a multiple of 3.\n"
      ],
      "metadata": {
        "id": "6VCPubdfGCy-"
      }
    },
    {
      "cell_type": "code",
      "source": [
        "in_range = int(input(\"please enter a number in the range 1 - 100: \"))\n",
        "\n",
        "def inrange(in_range):\n",
        "    if in_range % 2 != 0:\n",
        "    elif in_range % 3 != 0:\n",
        "      print(\"{in_range} is an odd. {in_range } is not a multiple of 3\")\n",
        "    elif in_range % 2 == 0:\n",
        "    elif in_range % 3 == 0:\n",
        "          print(\"{in_range} is an even. {in_range } is  a multiple of 3\")\n"
      ],
      "metadata": {
        "colab": {
          "base_uri": "https://localhost:8080/",
          "height": 106
        },
        "id": "r_uv7osXGCR0",
        "outputId": "fae5db6c-15d9-4435-a5dd-6e9c726337ff"
      },
      "execution_count": null,
      "outputs": [
        {
          "output_type": "error",
          "ename": "IndentationError",
          "evalue": "expected an indented block after 'if' statement on line 4 (<ipython-input-3-1f773a0391e7>, line 5)",
          "traceback": [
            "\u001b[0;36m  File \u001b[0;32m\"<ipython-input-3-1f773a0391e7>\"\u001b[0;36m, line \u001b[0;32m5\u001b[0m\n\u001b[0;31m    elif in_range % 3 != 0:\u001b[0m\n\u001b[0m    ^\u001b[0m\n\u001b[0;31mIndentationError\u001b[0m\u001b[0;31m:\u001b[0m expected an indented block after 'if' statement on line 4\n"
          ]
        }
      ]
    },
    {
      "cell_type": "code",
      "source": [],
      "metadata": {
        "id": "3nSKHlmqHgCM"
      },
      "execution_count": null,
      "outputs": []
    },
    {
      "cell_type": "markdown",
      "source": [
        "# Function challenge\n"
      ],
      "metadata": {
        "id": "d4DGuKmB403S"
      }
    },
    {
      "cell_type": "code",
      "source": [
        "mylist = [ 14,9,3,5,1]\n",
        "\n",
        "k=3\n",
        "\n",
        "\n"
      ],
      "metadata": {
        "id": "YQaDzE8X448r"
      },
      "execution_count": 12,
      "outputs": []
    },
    {
      "cell_type": "code",
      "source": [
        "mylist[3]"
      ],
      "metadata": {
        "colab": {
          "base_uri": "https://localhost:8080/"
        },
        "id": "Ilb5RjbZDEJZ",
        "outputId": "da6b26f5-1494-4c7a-c933-aae4677437cd"
      },
      "execution_count": 13,
      "outputs": [
        {
          "output_type": "execute_result",
          "data": {
            "text/plain": [
              "5"
            ]
          },
          "metadata": {},
          "execution_count": 13
        }
      ]
    },
    {
      "cell_type": "code",
      "source": [
        "def k_largest(mylist,k):\n",
        "    mylist.sort(reverse=True)\n",
        "    return (mylist[k-1])"
      ],
      "metadata": {
        "id": "7jaoNbqeDIex"
      },
      "execution_count": 14,
      "outputs": []
    },
    {
      "cell_type": "code",
      "source": [
        "kth = k_largest(mylist,k)\n",
        "print(kth)"
      ],
      "metadata": {
        "colab": {
          "base_uri": "https://localhost:8080/"
        },
        "id": "AdPbNKzKDqVv",
        "outputId": "5a34637d-5cba-4e0b-e95d-59e3595764fc"
      },
      "execution_count": 16,
      "outputs": [
        {
          "output_type": "stream",
          "name": "stdout",
          "text": [
            "5\n"
          ]
        }
      ]
    },
    {
      "cell_type": "code",
      "source": [
        "max_term = 5\n",
        "\n",
        "\n",
        "numof_terms = int(input(\"Enter the number of terms:\" ))\n",
        "numbers = []\n",
        "\n",
        "for x in range(numof_terms):\n",
        "    num = float(input(f\"enter elemnt {x + 1}: \"))\n",
        "    numbers.append(num)\n",
        "\n",
        "print(\"this is \", numbers)\n",
        "\n",
        "\n"
      ],
      "metadata": {
        "colab": {
          "base_uri": "https://localhost:8080/"
        },
        "id": "yix2b5ZQEOYJ",
        "outputId": "d9e6b076-2a46-490b-f080-7169a617ed80"
      },
      "execution_count": 37,
      "outputs": [
        {
          "output_type": "stream",
          "name": "stdout",
          "text": [
            "Enter the number of terms:3\n",
            "enter elemnt 1: 5\n",
            "enter elemnt 2: 6\n",
            "enter elemnt 3: 5\n",
            "this is  [5.0, 6.0, 5.0]\n"
          ]
        }
      ]
    },
    {
      "cell_type": "code",
      "source": [
        "def input_number_list():\n",
        "    numbers = []\n",
        "    n = int(input(\"enter the number of element: \"))\n",
        "    for i in range(n):\n",
        "        num = float(input(f\"enter element {i+1} : \"))\n",
        "        numbers.append(num)\n",
        "    return numbers"
      ],
      "metadata": {
        "id": "yAtLVRKvHUT3"
      },
      "execution_count": 38,
      "outputs": []
    },
    {
      "cell_type": "code",
      "source": [
        "number_list = input_number_list()\n",
        "print(number_list)"
      ],
      "metadata": {
        "colab": {
          "base_uri": "https://localhost:8080/"
        },
        "id": "lbT4OEKJIHZ4",
        "outputId": "3b6ab77b-9be0-49fd-d3b0-076aac6f69f2"
      },
      "execution_count": 27,
      "outputs": [
        {
          "output_type": "stream",
          "name": "stdout",
          "text": [
            "enter the number of element: 8\n",
            "enter element 1 : 5\n",
            "enter element 2 : 7\n",
            "enter element 3 : 8\n",
            "enter element 4 : 5\n",
            "enter element 5 : 3\n",
            "enter element 6 : 7\n",
            "enter element 7 : 9\n",
            "enter element 8 : 0\n",
            "[5.0, 7.0, 8.0, 5.0, 3.0, 7.0, 9.0, 0.0]\n"
          ]
        }
      ]
    },
    {
      "cell_type": "code",
      "source": [
        "\n",
        "\n"
      ],
      "metadata": {
        "id": "gjmQCOzfILIm"
      },
      "execution_count": null,
      "outputs": []
    },
    {
      "cell_type": "markdown",
      "source": [
        "# Function 3"
      ],
      "metadata": {
        "id": "2HtSgGuyRSbl"
      }
    },
    {
      "cell_type": "code",
      "source": [
        "import random   #my solution\n",
        "\n",
        "output1 = ['yes','no','maybe']\n",
        "user_input = str(input(\"Ask your question: \"))\n",
        "\n",
        "def magic8 (output1,user_input):\n",
        "    random_output = random.choice(output1)\n",
        "    return random_output\n",
        "\n",
        "answer =magic8(output1,user_input)\n",
        "print(answer)"
      ],
      "metadata": {
        "colab": {
          "base_uri": "https://localhost:8080/"
        },
        "id": "fpf4MU1dRUYM",
        "outputId": "a6ed0938-b62f-4b42-8f59-187fd032e757"
      },
      "execution_count": 44,
      "outputs": [
        {
          "output_type": "stream",
          "name": "stdout",
          "text": [
            "Ask your question: is it tru\n",
            "maybe\n"
          ]
        }
      ]
    },
    {
      "cell_type": "code",
      "source": [
        "answer = random.randint(1,3)\n",
        "\n",
        "if answer = 1:\n",
        "    print(\"Yes\")\n",
        "if answer = 2:\n",
        "    print(\"No\")\n",
        "if answer = 3:\n",
        "    print(\"May be\")\n",
        "\n"
      ],
      "metadata": {
        "id": "d3lCUP0nS5AM"
      },
      "execution_count": null,
      "outputs": []
    }
  ]
}