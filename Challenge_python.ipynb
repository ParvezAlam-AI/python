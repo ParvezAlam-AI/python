{
  "nbformat": 4,
  "nbformat_minor": 0,
  "metadata": {
    "colab": {
      "provenance": [],
      "toc_visible": true,
      "authorship_tag": "ABX9TyO8In9TzSubxPYStzhRDaqd",
      "include_colab_link": true
    },
    "kernelspec": {
      "name": "python3",
      "display_name": "Python 3"
    },
    "language_info": {
      "name": "python"
    }
  },
  "cells": [
    {
      "cell_type": "markdown",
      "metadata": {
        "id": "view-in-github",
        "colab_type": "text"
      },
      "source": [
        "<a href=\"https://colab.research.google.com/github/ParvezAlam-AI/python/blob/pythons_basics/Challenge_python.ipynb\" target=\"_parent\"><img src=\"https://colab.research.google.com/assets/colab-badge.svg\" alt=\"Open In Colab\"/></a>"
      ]
    },
    {
      "cell_type": "code",
      "execution_count": null,
      "metadata": {
        "id": "xou_j0UxF8Na"
      },
      "outputs": [],
      "source": []
    },
    {
      "cell_type": "markdown",
      "source": [
        "# Control flow\n"
      ],
      "metadata": {
        "id": "Z7OZs_k2GAAf"
      }
    },
    {
      "cell_type": "markdown",
      "source": [
        "Write a program that prompts the user to enter a number between 1 and 100. If the number is less than 1 or greater than 100, the program should print an error message and prompt the user to try again. If the number is between 1 and 100, the program should print whether the number is even or odd, and whether it is a multiple of 3.\n",
        "\n",
        "\n",
        "\n",
        "For example, if the user enters 23, the program should print:\n",
        "\n",
        "23 is odd. 23 is not a multiple of 3.\n",
        "And if the user enters 30, the program should print:\n",
        "\n",
        "30 is even. 30 is a multiple of 3.\n"
      ],
      "metadata": {
        "id": "6VCPubdfGCy-"
      }
    },
    {
      "cell_type": "code",
      "source": [
        "in_range = int(input(\"please enter a number in the range 1 - 100: \"))\n",
        "\n",
        "def inrange(in_range):\n",
        "    if in_range % 2 != 0:\n",
        "    elif in_range % 3 != 0:\n",
        "      print(\"{in_range} is an odd. {in_range } is not a multiple of 3\")\n",
        "    elif in_range % 2 == 0:\n",
        "    elif in_range % 3 == 0:\n",
        "          print(\"{in_range} is an even. {in_range } is  a multiple of 3\")\n"
      ],
      "metadata": {
        "colab": {
          "base_uri": "https://localhost:8080/",
          "height": 106
        },
        "id": "r_uv7osXGCR0",
        "outputId": "fae5db6c-15d9-4435-a5dd-6e9c726337ff"
      },
      "execution_count": null,
      "outputs": [
        {
          "output_type": "error",
          "ename": "IndentationError",
          "evalue": "expected an indented block after 'if' statement on line 4 (<ipython-input-3-1f773a0391e7>, line 5)",
          "traceback": [
            "\u001b[0;36m  File \u001b[0;32m\"<ipython-input-3-1f773a0391e7>\"\u001b[0;36m, line \u001b[0;32m5\u001b[0m\n\u001b[0;31m    elif in_range % 3 != 0:\u001b[0m\n\u001b[0m    ^\u001b[0m\n\u001b[0;31mIndentationError\u001b[0m\u001b[0;31m:\u001b[0m expected an indented block after 'if' statement on line 4\n"
          ]
        }
      ]
    },
    {
      "cell_type": "code",
      "source": [],
      "metadata": {
        "id": "3nSKHlmqHgCM"
      },
      "execution_count": null,
      "outputs": []
    }
  ]
}